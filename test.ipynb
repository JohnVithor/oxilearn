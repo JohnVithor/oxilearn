{
 "cells": [
  {
   "cell_type": "code",
   "execution_count": 1,
   "metadata": {},
   "outputs": [],
   "source": [
    "from oxilearn import CartPoleWrapper as CartPoleRust\n",
    "from oxilearn import DQN as DQNRust\n",
    "from gymnasium.envs.classic_control import CartPoleEnv as CartPolePy\n",
    "import envpool\n",
    "import numpy as np\n",
    "import gymnasium as gym\n",
    "from stable_baselines3 import DQN"
   ]
  },
  {
   "cell_type": "code",
   "execution_count": 2,
   "metadata": {},
   "outputs": [],
   "source": [
    "env = CartPoleRust()\n",
    "eval_env = CartPoleRust()\n",
    "model = DQNRust(net_arch=[(256, \"relu\"), (256, \"relu\")], learning_rate=0.0005)\n",
    "data = model.train(env,eval_env,475,steps=4000)"
   ]
  },
  {
   "cell_type": "code",
   "execution_count": 3,
   "metadata": {},
   "outputs": [],
   "source": [
    "env = CartPolePy()\n",
    "eval_env = CartPolePy()\n",
    "model = DQNRust(net_arch=[(256, \"relu\"), (256, \"relu\")], learning_rate=0.0005)\n",
    "data = model.train(env,eval_env,475,steps=4000)"
   ]
  },
  {
   "cell_type": "code",
   "execution_count": null,
   "metadata": {},
   "outputs": [],
   "source": []
  }
 ],
 "metadata": {
  "kernelspec": {
   "display_name": "deeprl",
   "language": "python",
   "name": "python3"
  },
  "language_info": {
   "codemirror_mode": {
    "name": "ipython",
    "version": 3
   },
   "file_extension": ".py",
   "mimetype": "text/x-python",
   "name": "python",
   "nbconvert_exporter": "python",
   "pygments_lexer": "ipython3",
   "version": "3.10.13"
  }
 },
 "nbformat": 4,
 "nbformat_minor": 2
}
